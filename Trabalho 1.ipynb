{
 "cells": [
  {
   "cell_type": "markdown",
   "metadata": {},
   "source": [
    "## Trabalho de Avaliação de Desempenho de Sistemas Operacionais"
   ]
  },
  {
   "cell_type": "markdown",
   "metadata": {},
   "source": [
    "### Capítulo 3 do livro do Paul Meyer "
   ]
  },
  {
   "cell_type": "markdown",
   "metadata": {},
   "source": [
    "###### Biliotecas instaladas"
   ]
  },
  {
   "cell_type": "code",
   "execution_count": 20,
   "metadata": {},
   "outputs": [],
   "source": [
    "##install.packages(\"vioplot\", repo = \"https://lib.ugent.be/CRAN/\")\n",
    "##install.packages(\"gridExtra\")"
   ]
  },
  {
   "cell_type": "markdown",
   "metadata": {},
   "source": [
    "#### Probabilidade Condicional e Independência"
   ]
  },
  {
   "cell_type": "markdown",
   "metadata": {},
   "source": [
    "Exercícios retirados do Livro do Paul Meyer\n",
    "\n",
    "###### 3.21. Duas máquinas A e B, sendo operadas independentemente, podem ter alguns desarranjos cada dia. A Tabela 3.2 dá a distribuição de probabilidades dos desarranjos para cada máquina. Calcule as seguintes probabilidades: "
   ]
  },
  {
   "cell_type": "code",
   "execution_count": 21,
   "metadata": {},
   "outputs": [],
   "source": [
    "## Variáveis utilizadas\n",
    "a_0 <- 0.1\n",
    "a_1 <-0.2\n",
    "a_2 <-0.3\n",
    "a_3 <-0.2\n",
    "a_4 <-0.09\n",
    "a_5 <-0.07\n",
    "a_6 <-0.04\n",
    "b_0 <-0.3\n",
    "b_1 <-0.1\n",
    "b_2 <-0.1\n",
    "b_3 <-0.1\n",
    "b_4 <-0.1\n",
    "b_5 <-0.15\n",
    "b_6 <-0.15\n"
   ]
  },
  {
   "cell_type": "code",
   "execution_count": 5,
   "metadata": {
    "scrolled": true
   },
   "outputs": [
    {
     "data": {
      "image/png": "[encoded data removed]",
      "text/plain": [
       "plot without title"
      ]
     },
     "metadata": {},
     "output_type": "display_data"
    }
   ],
   "source": [
    "##Tabela 3.2\n",
    "library(\"gridExtra\")\n",
    "dat <- matrix(c(\"N° desarranjos\",\"A\", \"B\", 0, a_0, b_0, 1, a_1,b_1 , 2, a_2,b_2,3,a_3,b_3,4,a_4,b_4,5,a_5,b_5,6,a_6,b_6),3)\n",
    "grid.table(dat)"
   ]
  },
  {
   "cell_type": "markdown",
   "metadata": {},
   "source": [
    "Considerando:\n",
    "$$\n",
    "X\\ =\\ o\\ número\\ de\\ falhas\\ nas\\ máquinas\\ A\n",
    "$$\n",
    "&nbsp;\n",
    "$$\n",
    "Y\\ =\\ o\\ número\\ de\\ falhas\\ nas\\ máquinas\\ b\n",
    "$$\n",
    "&nbsp;\n",
    "    \n",
    "    \n",
    "O experimento aleatório consiste em observar o número de falhas de cada uma das máquinas. Portanto:\n",
    "\n",
    "&nbsp;  \n",
    "$$ \n",
    " S = \\{(x,y) / x,y = 0,1,2,3,4,5,6 \\} \n",
    "$$"
   ]
  },
  {
   "cell_type": "markdown",
   "metadata": {},
   "source": [
    "#####    A) A e B tenham o mesmo número de desarranjos."
   ]
  },
  {
   "cell_type": "markdown",
   "metadata": {},
   "source": [
    " Resposta:  \n",
    "\n",
    "$$ \n",
    " E = \\{(x,y) / x = y \\}\n",
    "$$\n",
    "&nbsp;\n",
    "$$\n",
    " =  \\{(0,0),(1,1),(2,2),(3,3),(4,4),(5,5),(6,6) \\}\n",
    "$$\n",
    "\n",
    "&nbsp; \n",
    "\n",
    "Dado que nas máquinas A e B trabalham independentemente, temos que,\n",
    "&nbsp;\n",
    "\n",
    "$$\n",
    " P[E] =  \\{ (0.1)*(0.3)+(0.1)*(0.3)+(0.1)*(0.3)+(0.1)*(0.3)+(0.1)*(0.3)+(0.1)*(0.3)+(0.1)*(0.3) \\}\n",
    "$$\n",
    "\n",
    "$$\n",
    " = 0.1255\n",
    "$$\n",
    "&nbsp;"
   ]
  },
  {
   "cell_type": "code",
   "execution_count": 11,
   "metadata": {},
   "outputs": [
    {
     "data": {
      "text/html": [
       "0,1255"
      ],
      "text/latex": [
       "0,1255"
      ],
      "text/markdown": [
       "0,1255"
      ],
      "text/plain": [
       "[1] 0,1255"
      ]
     },
     "metadata": {},
     "output_type": "display_data"
    }
   ],
   "source": [
    "##Calculando\n",
    "c(a_0*b_0)+c(a_1*b_1)+c(a_2*b_2)+c(a_3*b_3)+c(a_4*b_4)+c(a_5*b_5)+c(a_6*b_6)"
   ]
  },
  {
   "cell_type": "markdown",
   "metadata": {},
   "source": [
    "#####    B) O número total de desarranjos seja menor que 4;menor que 5."
   ]
  },
  {
   "cell_type": "markdown",
   "metadata": {},
   "source": [
    "Resposta:\n",
    "&nbsp;\n",
    "$$\n",
    "Se\\ F_{4} = \\{ é\\ o\\ número\\ de\\ falhas\\ menores\\ que\\ 4\\}\n",
    "$$\n",
    "&nbsp;\n",
    "$$\n",
    "Se\\ F_{5} = \\{ é\\ o\\ número\\ de\\ falhas\\ menores\\ que\\ 5\\}\n",
    "$$\n",
    "&nbsp;\n",
    "$$\n",
    "Então,\n",
    "$$\n",
    "&nbsp;\n",
    "$$\n",
    "F_{4}= \\{(x,y) / x+y  \\le 3\\} = \\{(0,0),(0,1),(0,2),(0,3),(1,0),(2,0),(3,0),(1,1),(1,2),(2,1)\\}\n",
    "$$\n",
    "&nbsp;\n",
    "$$\n",
    "F_{5}= \\{(x,y) / x+y  \\le 4\\} = F_{4} \\cup \\{(0,4),(4,0),(1,3),(3,1),(2,2)\\}\n",
    "$$\n",
    "&nbsp;\n",
    "$$\n",
    "Portando,\n",
    "$$\n",
    "&nbsp;\n",
    "$$\n",
    "P[F_{4}]=  (0.1)*(0.3)+(0.1)*(0.1)+(0.1)*(0.1)+(0.1)*(0.1)+(0.2)*(0.3)+(0.3)*(0.3)+(0.2)*(0.3)+(0.2)*(0.1)+(0.2)*(0.1)+(0.3)*(0.1) = 0.34\n",
    "$$\n",
    "&nbsp;\n",
    "$$\n",
    "P[F_{5}]= P[F_{4}] + (0.1)*(0.1)+(0.09)*(0.3)+(0.2)*(0.1)+(0.2)*(0.1)+(0.3)*(0.1) = 0.34 + 0.107 = 0.447\n",
    "$$"
   ]
  },
  {
   "cell_type": "code",
   "execution_count": 23,
   "metadata": {},
   "outputs": [
    {
     "data": {
      "text/html": [
       "0,34"
      ],
      "text/latex": [
       "0,34"
      ],
      "text/markdown": [
       "0,34"
      ],
      "text/plain": [
       "[1] 0,34"
      ]
     },
     "metadata": {},
     "output_type": "display_data"
    }
   ],
   "source": [
    "##Calculando F4\n",
    "f4 <- (c(a_0*b_0)+c(a_0*b_1)+c(a_0*b_2)+c(a_0*b_3)+c(a_1*b_0)+c(a_2*b_0)+c(a_3*b_0)+c(a_1*b_1)+c(a_1*b_2)+c(a_2*b_1))\n",
    "f4"
   ]
  },
  {
   "cell_type": "code",
   "execution_count": 24,
   "metadata": {},
   "outputs": [
    {
     "data": {
      "text/html": [
       "0,447"
      ],
      "text/latex": [
       "0,447"
      ],
      "text/markdown": [
       "0,447"
      ],
      "text/plain": [
       "[1] 0,447"
      ]
     },
     "metadata": {},
     "output_type": "display_data"
    }
   ],
   "source": [
    "##Calculando F5\n",
    "f5 <- (f4+(c(a_0*b_4)+c(a_4*b_0)+c(a_1*b_3)+c(a_3*b_1)+c(a_2*b_2)))\n",
    "f5"
   ]
  },
  {
   "cell_type": "markdown",
   "metadata": {},
   "source": [
    "#####    C) A tenha mais desarranjos que B."
   ]
  },
  {
   "cell_type": "markdown",
   "metadata": {},
   "source": [
    "$$\n",
    "G = \\{ A\\ tem\\ mais\\ falhas\\ que\\ B\\ \\}\n",
    "$$\n",
    "&nbsp;\n",
    "$$\n",
    "G = \\{(x,y)\\ /\\ x > y,\\ x\\ =\\ 1,2,...6,\\ y\\ =\\ 1,2,...5\\ \\}\n",
    "$$\n",
    "&nbsp;\n",
    "$$\n",
    "G = \\{ (1,0),(2,0),(2,1),(3,0),(3,1),(3,2),(4,0),(4,1),(4,2),(4,3),(5,0),(5,1),(5,2),(5,3),(5,4),(6,0),(6,1),(6,2),(6,3),(6,4),(6,5) \\}\n",
    "$$\n",
    "&nbsp;\n",
    "$$\n",
    "Logo,\n",
    "$$\n",
    "&nbsp;\n",
    "$$\n",
    "P[G] = \\ (0.2)*(0.3)+(0.3)*(0.3+0.1)+(0.2)*(0.3+0.1+0.1)+(0.09)*(0.3+0.1+0.1+0.1)+(0.07)*(0.3+0.1+0.1+0.1+0.1)+(0.04)*(0.3+0.1+0.1+0.1+0.1+0.15) = 0.417 \n",
    "$$\n",
    "&nbsp;"
   ]
  },
  {
   "cell_type": "code",
   "execution_count": 18,
   "metadata": {},
   "outputs": [
    {
     "data": {
      "text/html": [
       "0,417"
      ],
      "text/latex": [
       "0,417"
      ],
      "text/markdown": [
       "0,417"
      ],
      "text/plain": [
       "[1] 0,417"
      ]
     },
     "metadata": {},
     "output_type": "display_data"
    }
   ],
   "source": [
    "##Calculando P[G]\n",
    "fg <- (c(a_1*b_0)+c(a_2*b_0)+c(a_2*b_1)+c(a_3*b_0)+c(a_3*b_1)+c(a_3*b_2)+c(a_4*b_0)+c(a_4*b_1)+c(a_4*b_2)+c(a_4*b_3)+c(a_5*b_0)+c(a_5*b_1)+c(a_5*b_2)+c(a_5*b_3)+c(a_5*b_4)+c(a_6*b_0)+c(a_6*b_1)+c(a_6*b_2)+c(a_6*b_3)+c(a_6*b_4)+c(a_6*b_5))\n",
    "fg"
   ]
  },
  {
   "cell_type": "markdown",
   "metadata": {},
   "source": [
    "#####    D) B tenha duas vezes mais arranjos que A."
   ]
  },
  {
   "cell_type": "markdown",
   "metadata": {},
   "source": [
    "$$\n",
    "H = \\{ (x,y) / y\\ =\\ 2x\\ \\}\n",
    "$$\n",
    "&nbsp;\n",
    "$$\n",
    "H = \\{ (1,2),(2,4),(3,6) \\}\n",
    "$$\n",
    "&nbsp;\n",
    "$$\n",
    "P[H] = \\{ (0.2)*(0.1)+(0.3)*(0.1)+(0.2)*(0.15)\\ =\\ 0.08\\ \\}\n",
    "$$\n",
    "&nbsp;"
   ]
  },
  {
   "cell_type": "code",
   "execution_count": 28,
   "metadata": {},
   "outputs": [
    {
     "data": {
      "text/html": [
       "0,08"
      ],
      "text/latex": [
       "0,08"
      ],
      "text/markdown": [
       "0,08"
      ],
      "text/plain": [
       "[1] 0,08"
      ]
     },
     "metadata": {},
     "output_type": "display_data"
    }
   ],
   "source": [
    "##Calculando F[H]\n",
    "fh <- (c(a_1*b_2)+c(a_2*b_4)+c(a_3*b_6))\n",
    "fh"
   ]
  },
  {
   "cell_type": "markdown",
   "metadata": {},
   "source": [
    "#####    E) B tenha 4 desarranjos, quando se saiba que B já tenha tido 2 desarranjos."
   ]
  },
  {
   "cell_type": "markdown",
   "metadata": {},
   "source": [
    "$$\n",
    " B_{4} = \\{ B\\ tem\\ 4\\ falhas \\} \\ =\\  \\{ (x,y) \\ /  \\ y\\ =\\ 4\\ \\}\n",
    "$$\n",
    "&nbsp;\n",
    "$$\n",
    " B_{2} = \\{ B\\ tem\\ pelo\\ menos\\ duas\\ falhas \\} \\ =\\  \\{ (x,y) \\ / \\ y\\ \\ge 2 \\}  \n",
    "$$\n",
    "&nbsp;\n",
    "$$\n",
    " Devemos\\ calcular\\ :  \n",
    "$$\n",
    "&nbsp;\n",
    "$$\n",
    " P[B_{4} | B_{2} ] \\ = \\ \\frac{P[B_{4} \\cap B_{2} ]}{P[B_{2}]} \\ = \\  \\frac{P[B_{4} ]}{P[B_{2}]}\n",
    "$$\n",
    "&nbsp;\n",
    "$$\n",
    " P[B_{4}] \\ = \\ 0.1\n",
    "$$\n",
    "&nbsp;\n",
    "$$\n",
    " P[ B_{2} ] \\ = \\ 1 \\ - \\ P[\\bar{ B_{2}} ] \\ = \\ 1 \\ - \\ (0.3 + 0.1) \\ = \\ 0.6 \n",
    "$$\n",
    "&nbsp;\n",
    "$$\n",
    " Logo :  \n",
    "$$\n",
    "&nbsp;\n",
    "$$\n",
    " P[B_{4} | B_{2} ] \\ = \\ \\frac{0.1}{0.6} \\ = \\  \\frac{1}{6}\n",
    "$$\n",
    "&nbsp;"
   ]
  },
  {
   "cell_type": "code",
   "execution_count": 32,
   "metadata": {},
   "outputs": [
    {
     "data": {
      "text/html": [
       "0,166666666666667"
      ],
      "text/latex": [
       "0,166666666666667"
      ],
      "text/markdown": [
       "0,166666666666667"
      ],
      "text/plain": [
       "[1] 0,1666667"
      ]
     },
     "metadata": {},
     "output_type": "display_data"
    }
   ],
   "source": [
    "## Calculando P[B4|B2]\n",
    "Pb4 <- 0.1\n",
    "Pb2 <- c(1 - (0.3*0.1))\n",
    "Pb4b2 <- c(0.1/0.6)\n",
    "Pb4b2"
   ]
  },
  {
   "cell_type": "markdown",
   "metadata": {},
   "source": [
    "#####    F) O número mínimo de desarranjos das duas máquinas seja 3; seja menor que 3."
   ]
  },
  {
   "cell_type": "markdown",
   "metadata": {},
   "source": [
    "$$\n",
    " K =  \\{ (x,y) \\ /  \\ min (x,y)\\ =\\ 3\\ \\}\n",
    "$$\n",
    "&nbsp;\n",
    "$$\n",
    " K = \\{ (3,3),(3,4),(4,3),(3,5),(5,3),(3,6),(6,3) \\} \\ = \\ 0.12\n",
    "$$\n",
    "&nbsp;\n",
    "\n",
    " "
   ]
  },
  {
   "cell_type": "code",
   "execution_count": 33,
   "metadata": {},
   "outputs": [
    {
     "data": {
      "text/html": [
       "0,12"
      ],
      "text/latex": [
       "0,12"
      ],
      "text/markdown": [
       "0,12"
      ],
      "text/plain": [
       "[1] 0,12"
      ]
     },
     "metadata": {},
     "output_type": "display_data"
    }
   ],
   "source": [
    "##Calculando P[K]\n",
    "pk <- (c(a_3*b_3)+c(a_3*b_4)+c(a_4*b_3)+c(a_3*b_5)+c(a_3*b_6)+c(a_5*b_3)+c(a_6*b_3))\n",
    "pk"
   ]
  },
  {
   "cell_type": "markdown",
   "metadata": {},
   "source": [
    "$$\n",
    " L =  \\{ (x,y) \\ /  \\ min (x,y)\\ < \\ 3\\ \\}\n",
    "$$\n",
    "&nbsp;\n",
    "$$\n",
    " L = \\{ (0,0),(0,1),(1,0),(0,2),(2,0),(0,3),(3,0),(0,4),(4,0),(0,5),(5,0),(0,6)(6,0),(1,1),(1,2),(2,1),(1,3),(3,1),(1,4),(4,1),(1,5),(5,1),(1,6),(6,1),(2,2),(2,3),(3,2),(2,4),(4,2),(2,5),(5,2),(2,6),(6,2) \\} \\ = \\ 0.8\n",
    "$$\n",
    "&nbsp;\n"
   ]
  },
  {
   "cell_type": "code",
   "execution_count": 37,
   "metadata": {},
   "outputs": [
    {
     "data": {
      "text/html": [
       "0,8"
      ],
      "text/latex": [
       "0,8"
      ],
      "text/markdown": [
       "0,8"
      ],
      "text/plain": [
       "[1] 0,8"
      ]
     },
     "metadata": {},
     "output_type": "display_data"
    }
   ],
   "source": [
    "## Calculando P[L]\n",
    "##Calculando P[K]\n",
    "pl <- (c(a_0*b_0)+c(a_0*b_1)+c(a_0*b_2)+c(a_0*b_3)+c(a_0*b_4)+c(a_0*b_5)+c(a_0*b_6)+c(a_1*b_0)+c(a_2*b_0)+c(a_3*b_0)+c(a_4*b_0)+c(a_5*b_0)+c(a_6*b_0)+c(a_1*b_1)+c(a_1*b_2)+c(a_1*b_3)+c(a_1*b_4)+c(a_1*b_5)+c(a_1*b_6)+c(a_3*b_1)+c(a_4*b_1)+c(a_5*b_1)+c(a_6*b_1)+c(a_2*b_1)+c(a_2*b_2)+c(a_2*b_3)+c(a_2*b_4)+c(a_2*b_5)+c(a_2*b_6)+c(a_3*b_2)+c(a_4*b_2)+c(a_5*b_2)+c(a_6*b_2))\n",
    "pl"
   ]
  },
  {
   "cell_type": "markdown",
   "metadata": {},
   "source": [
    "#####    G) O número máximo de desarranjos das máquinas seja 3; seja maior que 3."
   ]
  },
  {
   "cell_type": "markdown",
   "metadata": {},
   "source": [
    "$$\n",
    " M =  \\{ (x,y) \\ /  \\ max (x,y)\\ =\\ 3\\ \\}\n",
    "$$\n",
    "&nbsp;\n",
    "$$\n",
    " K = \\{ (0,3),(3,0),(1,3),(3,1),(2,3),(3,2),(3,3) \\} \\ = \\ 0.18\n",
    "$$\n",
    "&nbsp;\n"
   ]
  },
  {
   "cell_type": "code",
   "execution_count": 39,
   "metadata": {},
   "outputs": [
    {
     "data": {
      "text/html": [
       "0,18"
      ],
      "text/latex": [
       "0,18"
      ],
      "text/markdown": [
       "0,18"
      ],
      "text/plain": [
       "[1] 0,18"
      ]
     },
     "metadata": {},
     "output_type": "display_data"
    }
   ],
   "source": [
    "##Calculando P[M]\n",
    "pm <- (c(a_0*b_3)+c(a_3*b_0)+c(a_1*b_3)+c(a_3*b_1)+c(a_2*b_3)+c(a_3*b_2)+c(a_3*b_3))\n",
    "pm"
   ]
  },
  {
   "cell_type": "markdown",
   "metadata": {},
   "source": [
    "##### 3.17. Sabe-se que na fabricação de um certo artigo, defeitos de um  tipo  ocorrem com probabilidade de 0,1 e defeitos de outro tipo com probabilida de 0.05. Qual será a probabilidade de que:"
   ]
  },
  {
   "cell_type": "markdown",
   "metadata": {},
   "source": [
    "\n",
    "Vamos definir:\n",
    "\n",
    "&nbsp;\n",
    "$$\n",
    " D_{1} \\ = \\ \\{ Artigo\\ com\\ defeito\\ 1 \\}\n",
    "$$\n",
    "&nbsp;\n",
    "$$\n",
    " D_{2} \\ = \\ \\{ Artigo\\ com\\ defeito\\ 2 \\}\n",
    "$$\n",
    "&nbsp;\n",
    "$$\n",
    " A \\ = \\ \\{ Artigo\\ que\\ não\\ possua\\ nunhum\\ defeito \\}\n",
    "$$\n",
    "&nbsp;\n",
    "$$\n",
    " B \\ = \\ \\{ Artigo\\ com\\ defeito \\}\n",
    "$$\n",
    "&nbsp;\n",
    "$$\n",
    "C \\ = \\ \\{ Artigo\\ com\\ defeito,\\ mas\\ que\\ possua\\ apenas\\ um\\ tipo\\ de\\ defeito \\}\n",
    "$$\n",
    "\n",
    "&nbsp;\n"
   ]
  },
  {
   "cell_type": "markdown",
   "metadata": {},
   "source": [
    "##### A) Um artigo não tenha ambos os tipos de defeitos?"
   ]
  },
  {
   "cell_type": "markdown",
   "metadata": {},
   "source": [
    "$$\n",
    "P[\\bar{A} ] \\ = \\ P[D_{1}D_{2}] = P[D_{1}]P[D_{2}]\n",
    "$$\n",
    "&nbsp;\n",
    "$$\n",
    " = \\ (0.1)*(0.05)= 0.005\n",
    "$$\n",
    "&nbsp;\n",
    "Logo,\n",
    "&nbsp;\n",
    "$$\n",
    "P[A] \\ = \\ P[\\bar{A}] \\ - \\ 1  \\ = \\ 0.995\n",
    "$$"
   ]
  },
  {
   "cell_type": "code",
   "execution_count": 41,
   "metadata": {},
   "outputs": [
    {
     "data": {
      "text/html": [
       "0,9995"
      ],
      "text/latex": [
       "0,9995"
      ],
      "text/markdown": [
       "0,9995"
      ],
      "text/plain": [
       "[1] 0,9995"
      ]
     },
     "metadata": {},
     "output_type": "display_data"
    }
   ],
   "source": [
    "##Calculando P[A]\n",
    "PcompA <- c(0.1*0.005)\n",
    "Pa <- c(1 - PcompA )\n",
    "Pa"
   ]
  },
  {
   "cell_type": "markdown",
   "metadata": {},
   "source": [
    "##### B) Um artigo seja defeituoso?"
   ]
  },
  {
   "cell_type": "markdown",
   "metadata": {},
   "source": [
    "$$\n",
    "P[B ] \\ = \\ P[D_{1} \\cup D_{2}] = P[D_{1}] + P[D_{2}] -P[D_{1}D_{2}]\n",
    "$$\n",
    "&nbsp;\n",
    "$$\n",
    " = \\ (0.1 \\ + \\ 0.05) - (0.1)*(0.005) \\ = \\ 0.145\n",
    "$$"
   ]
  },
  {
   "cell_type": "code",
   "execution_count": 44,
   "metadata": {},
   "outputs": [
    {
     "data": {
      "text/html": [
       "0,145"
      ],
      "text/latex": [
       "0,145"
      ],
      "text/markdown": [
       "0,145"
      ],
      "text/plain": [
       "[1] 0,145"
      ]
     },
     "metadata": {},
     "output_type": "display_data"
    }
   ],
   "source": [
    "##Calculando P[B]\n",
    "Pb <- ( c(0.1 + 0.05)- c(0.1 * 0.05))\n",
    "Pb"
   ]
  },
  {
   "cell_type": "markdown",
   "metadata": {},
   "source": [
    "##### C) Um artigo tenha apenas um tipo de defeito, sabido que é defeituoso?"
   ]
  },
  {
   "cell_type": "markdown",
   "metadata": {},
   "source": [
    "$$\n",
    "P[C ] \\ = \\ P[D_{1} \\bar{D_{2}} \\cup \\bar{D_{1}} D_{2}] \\ = \\ P[D_{1} \\bar{D_{2}}] \\ + \\ P[ \\bar{D_{1}} D_{2}]\n",
    "$$\n",
    "&nbsp;\n",
    "$$\n",
    " = \\ P[D_{1} ]*P[\\bar{D_{2}}] \\ + \\ P[ \\bar{D_{1}} ]*P[ D_{2}]\n",
    "$$\n",
    "&nbsp;\n",
    "$$\n",
    " = \\ (0.1) \\ * \\ (0.05) + (0.9) \\ * \\ (0.05) \\ = \\ 0.14\n",
    "$$\n"
   ]
  },
  {
   "cell_type": "code",
   "execution_count": 46,
   "metadata": {},
   "outputs": [
    {
     "data": {
      "text/html": [
       "0,14"
      ],
      "text/latex": [
       "0,14"
      ],
      "text/markdown": [
       "0,14"
      ],
      "text/plain": [
       "[1] 0,14"
      ]
     },
     "metadata": {},
     "output_type": "display_data"
    }
   ],
   "source": [
    "## Calculando P[C]\n",
    "Pc <- (c(0.1 * 0.95) + c(0.9 * 0.05))\n",
    "Pc"
   ]
  }
 ],
 "metadata": {
  "kernelspec": {
   "display_name": "R",
   "language": "R",
   "name": "ir"
  },
  "language_info": {
   "codemirror_mode": "r",
   "file_extension": ".r",
   "mimetype": "text/x-r-source",
   "name": "R",
   "pygments_lexer": "r",
   "version": "3.5.1"
  }
 },
 "nbformat": 4,
 "nbformat_minor": 2
}
