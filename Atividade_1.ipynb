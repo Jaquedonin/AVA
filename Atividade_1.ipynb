{
 "cells": [
  {
   "cell_type": "markdown",
   "metadata": {},
   "source": [
    "## Entregável de Avaliação de Desempenho de Sistemas operacionais"
   ]
  },
  {
   "cell_type": "markdown",
   "metadata": {},
   "source": [
    "#### Discentes: \n",
    "    Gabriel Formiga\n",
    "    Jaqueline Donin\n",
    "    Josué Paiva"
   ]
  },
  {
   "cell_type": "markdown",
   "metadata": {},
   "source": [
    "![image.png](img1.png)"
   ]
  },
  {
   "cell_type": "markdown",
   "metadata": {},
   "source": [
    "##### Resposta letra A)"
   ]
  },
  {
   "cell_type": "code",
   "execution_count": 147,
   "metadata": {},
   "outputs": [
    {
     "data": {
      "text/html": [
       "<ol class=list-inline>\n",
       "\t<li>4</li>\n",
       "\t<li>2</li>\n",
       "\t<li>1</li>\n",
       "\t<li>0</li>\n",
       "\t<li>3</li>\n",
       "\t<li>1</li>\n",
       "\t<li>2</li>\n",
       "\t<li>0</li>\n",
       "\t<li>2</li>\n",
       "\t<li>1</li>\n",
       "\t<li>0</li>\n",
       "\t<li>2</li>\n",
       "\t<li>1</li>\n",
       "\t<li>1</li>\n",
       "\t<li>0</li>\n",
       "\t<li>4</li>\n",
       "\t<li>3</li>\n",
       "\t<li>2</li>\n",
       "\t<li>3</li>\n",
       "\t<li>5</li>\n",
       "\t<li>8</li>\n",
       "\t<li>0</li>\n",
       "\t<li>1</li>\n",
       "\t<li>6</li>\n",
       "\t<li>5</li>\n",
       "\t<li>3</li>\n",
       "\t<li>2</li>\n",
       "\t<li>1</li>\n",
       "\t<li>6</li>\n",
       "\t<li>4</li>\n",
       "\t<li>3</li>\n",
       "\t<li>4</li>\n",
       "\t<li>3</li>\n",
       "\t<li>2</li>\n",
       "\t<li>1</li>\n",
       "\t<li>0</li>\n",
       "\t<li>2</li>\n",
       "\t<li>1</li>\n",
       "\t<li>0</li>\n",
       "\t<li>3</li>\n",
       "</ol>\n"
      ],
      "text/latex": [
       "\\begin{enumerate*}\n",
       "\\item 4\n",
       "\\item 2\n",
       "\\item 1\n",
       "\\item 0\n",
       "\\item 3\n",
       "\\item 1\n",
       "\\item 2\n",
       "\\item 0\n",
       "\\item 2\n",
       "\\item 1\n",
       "\\item 0\n",
       "\\item 2\n",
       "\\item 1\n",
       "\\item 1\n",
       "\\item 0\n",
       "\\item 4\n",
       "\\item 3\n",
       "\\item 2\n",
       "\\item 3\n",
       "\\item 5\n",
       "\\item 8\n",
       "\\item 0\n",
       "\\item 1\n",
       "\\item 6\n",
       "\\item 5\n",
       "\\item 3\n",
       "\\item 2\n",
       "\\item 1\n",
       "\\item 6\n",
       "\\item 4\n",
       "\\item 3\n",
       "\\item 4\n",
       "\\item 3\n",
       "\\item 2\n",
       "\\item 1\n",
       "\\item 0\n",
       "\\item 2\n",
       "\\item 1\n",
       "\\item 0\n",
       "\\item 3\n",
       "\\end{enumerate*}\n"
      ],
      "text/markdown": [
       "1. 4\n",
       "2. 2\n",
       "3. 1\n",
       "4. 0\n",
       "5. 3\n",
       "6. 1\n",
       "7. 2\n",
       "8. 0\n",
       "9. 2\n",
       "10. 1\n",
       "11. 0\n",
       "12. 2\n",
       "13. 1\n",
       "14. 1\n",
       "15. 0\n",
       "16. 4\n",
       "17. 3\n",
       "18. 2\n",
       "19. 3\n",
       "20. 5\n",
       "21. 8\n",
       "22. 0\n",
       "23. 1\n",
       "24. 6\n",
       "25. 5\n",
       "26. 3\n",
       "27. 2\n",
       "28. 1\n",
       "29. 6\n",
       "30. 4\n",
       "31. 3\n",
       "32. 4\n",
       "33. 3\n",
       "34. 2\n",
       "35. 1\n",
       "36. 0\n",
       "37. 2\n",
       "38. 1\n",
       "39. 0\n",
       "40. 3\n",
       "\n",
       "\n"
      ],
      "text/plain": [
       " [1] 4 2 1 0 3 1 2 0 2 1 0 2 1 1 0 4 3 2 3 5 8 0 1 6 5 3 2 1 6 4 3 4 3 2 1 0 2 1\n",
       "[39] 0 3"
      ]
     },
     "metadata": {},
     "output_type": "display_data"
    }
   ],
   "source": [
    "## Coloca o conjunto de valores na variável x\n",
    "x <- c(4,2,1,0,3,1,2,0,2,1,0,2,1,1,0,4,3,2,3,5,8,0,1,6,5,3,2,1,6,4,3,4,3,2,1,0,2,1,0,3)\n",
    "x"
   ]
  },
  {
   "cell_type": "code",
   "execution_count": 148,
   "metadata": {},
   "outputs": [
    {
     "data": {
      "text/html": [
       "<dl class=dl-horizontal>\n",
       "\t<dt>0</dt>\n",
       "\t\t<dd>7</dd>\n",
       "\t<dt>1</dt>\n",
       "\t\t<dd>9</dd>\n",
       "\t<dt>2</dt>\n",
       "\t\t<dd>8</dd>\n",
       "\t<dt>3</dt>\n",
       "\t\t<dd>7</dd>\n",
       "\t<dt>4</dt>\n",
       "\t\t<dd>4</dd>\n",
       "\t<dt>5</dt>\n",
       "\t\t<dd>2</dd>\n",
       "\t<dt>6</dt>\n",
       "\t\t<dd>2</dd>\n",
       "\t<dt>8</dt>\n",
       "\t\t<dd>1</dd>\n",
       "</dl>\n"
      ],
      "text/latex": [
       "\\begin{description*}\n",
       "\\item[0] 7\n",
       "\\item[1] 9\n",
       "\\item[2] 8\n",
       "\\item[3] 7\n",
       "\\item[4] 4\n",
       "\\item[5] 2\n",
       "\\item[6] 2\n",
       "\\item[8] 1\n",
       "\\end{description*}\n"
      ],
      "text/markdown": [
       "0\n",
       ":   71\n",
       ":   92\n",
       ":   83\n",
       ":   74\n",
       ":   45\n",
       ":   26\n",
       ":   28\n",
       ":   1\n",
       "\n"
      ],
      "text/plain": [
       "0 1 2 3 4 5 6 8 \n",
       "7 9 8 7 4 2 2 1 "
      ]
     },
     "metadata": {},
     "output_type": "display_data"
    }
   ],
   "source": [
    "## Exibe a frequência dos valores da variável x\n",
    "summary(factor(x))"
   ]
  },
  {
   "cell_type": "markdown",
   "metadata": {},
   "source": [
    "##### Resposta letra B"
   ]
  },
  {
   "cell_type": "code",
   "execution_count": 149,
   "metadata": {},
   "outputs": [],
   "source": [
    "## Pega os valores menos que 3 com suas respectivas frequencias \n",
    "y <- summary(factor(x[x<3]))"
   ]
  },
  {
   "cell_type": "code",
   "execution_count": 150,
   "metadata": {},
   "outputs": [
    {
     "data": {
      "text/html": [
       "60"
      ],
      "text/latex": [
       "60"
      ],
      "text/markdown": [
       "60"
      ],
      "text/plain": [
       "[1] 60"
      ]
     },
     "metadata": {},
     "output_type": "display_data"
    }
   ],
   "source": [
    "## Calcula a porcentagem\n",
    "porcentagem <- c((sum(y)/40)*100)\n",
    "porcentagem"
   ]
  },
  {
   "cell_type": "markdown",
   "metadata": {},
   "source": [
    "##### Resposta letra C"
   ]
  },
  {
   "cell_type": "code",
   "execution_count": 151,
   "metadata": {},
   "outputs": [
    {
     "data": {
      "text/html": [
       "<dl class=dl-horizontal>\n",
       "\t<dt>4</dt>\n",
       "\t\t<dd>4</dd>\n",
       "\t<dt>5</dt>\n",
       "\t\t<dd>2</dd>\n",
       "\t<dt>6</dt>\n",
       "\t\t<dd>2</dd>\n",
       "\t<dt>8</dt>\n",
       "\t\t<dd>1</dd>\n",
       "</dl>\n"
      ],
      "text/latex": [
       "\\begin{description*}\n",
       "\\item[4] 4\n",
       "\\item[5] 2\n",
       "\\item[6] 2\n",
       "\\item[8] 1\n",
       "\\end{description*}\n"
      ],
      "text/markdown": [
       "4\n",
       ":   45\n",
       ":   26\n",
       ":   28\n",
       ":   1\n",
       "\n"
      ],
      "text/plain": [
       "4 5 6 8 \n",
       "4 2 2 1 "
      ]
     },
     "metadata": {},
     "output_type": "display_data"
    }
   ],
   "source": [
    "## Pega os valores maiores que 3 com suas respectivas frequencias \n",
    "w <- summary(factor(x[x>3]))\n",
    "w"
   ]
  },
  {
   "cell_type": "code",
   "execution_count": 152,
   "metadata": {},
   "outputs": [
    {
     "data": {
      "text/html": [
       "60"
      ],
      "text/latex": [
       "60"
      ],
      "text/markdown": [
       "60"
      ],
      "text/plain": [
       "[1] 60"
      ]
     },
     "metadata": {},
     "output_type": "display_data"
    }
   ],
   "source": [
    "## Calcula a porcentagem\n",
    "porcentagem_2 <- c((sum(y)/40)*100)\n",
    "porcentagem_2"
   ]
  },
  {
   "cell_type": "markdown",
   "metadata": {},
   "source": [
    "![image.png](img2.png)"
   ]
  },
  {
   "cell_type": "markdown",
   "metadata": {},
   "source": [
    "##### Resposta letra A"
   ]
  },
  {
   "cell_type": "code",
   "execution_count": 153,
   "metadata": {},
   "outputs": [
    {
     "data": {
      "text/html": [
       "<dl class=dl-horizontal>\n",
       "\t<dt>6</dt>\n",
       "\t\t<dd>1</dd>\n",
       "\t<dt>10</dt>\n",
       "\t\t<dd>1</dd>\n",
       "\t<dt>11</dt>\n",
       "\t\t<dd>3</dd>\n",
       "\t<dt>12</dt>\n",
       "\t\t<dd>4</dd>\n",
       "\t<dt>13</dt>\n",
       "\t\t<dd>3</dd>\n",
       "\t<dt>14</dt>\n",
       "\t\t<dd>2</dd>\n",
       "\t<dt>15</dt>\n",
       "\t\t<dd>2</dd>\n",
       "\t<dt>16</dt>\n",
       "\t\t<dd>2</dd>\n",
       "\t<dt>17</dt>\n",
       "\t\t<dd>3</dd>\n",
       "\t<dt>18</dt>\n",
       "\t\t<dd>2</dd>\n",
       "\t<dt>19</dt>\n",
       "\t\t<dd>3</dd>\n",
       "\t<dt>20</dt>\n",
       "\t\t<dd>3</dd>\n",
       "\t<dt>21</dt>\n",
       "\t\t<dd>2</dd>\n",
       "\t<dt>22</dt>\n",
       "\t\t<dd>2</dd>\n",
       "\t<dt>23</dt>\n",
       "\t\t<dd>3</dd>\n",
       "\t<dt>24</dt>\n",
       "\t\t<dd>1</dd>\n",
       "\t<dt>25</dt>\n",
       "\t\t<dd>2</dd>\n",
       "\t<dt>26</dt>\n",
       "\t\t<dd>2</dd>\n",
       "\t<dt>27</dt>\n",
       "\t\t<dd>2</dd>\n",
       "\t<dt>28</dt>\n",
       "\t\t<dd>2</dd>\n",
       "\t<dt>29</dt>\n",
       "\t\t<dd>2</dd>\n",
       "\t<dt>30</dt>\n",
       "\t\t<dd>1</dd>\n",
       "\t<dt>31</dt>\n",
       "\t\t<dd>2</dd>\n",
       "\t<dt>32</dt>\n",
       "\t\t<dd>2</dd>\n",
       "\t<dt>33</dt>\n",
       "\t\t<dd>1</dd>\n",
       "\t<dt>34</dt>\n",
       "\t\t<dd>1</dd>\n",
       "\t<dt>35</dt>\n",
       "\t\t<dd>2</dd>\n",
       "\t<dt>36</dt>\n",
       "\t\t<dd>1</dd>\n",
       "\t<dt>37</dt>\n",
       "\t\t<dd>2</dd>\n",
       "\t<dt>38</dt>\n",
       "\t\t<dd>2</dd>\n",
       "\t<dt>39</dt>\n",
       "\t\t<dd>1</dd>\n",
       "\t<dt>40</dt>\n",
       "\t\t<dd>1</dd>\n",
       "\t<dt>41</dt>\n",
       "\t\t<dd>1</dd>\n",
       "\t<dt>43</dt>\n",
       "\t\t<dd>1</dd>\n",
       "\t<dt>44</dt>\n",
       "\t\t<dd>1</dd>\n",
       "\t<dt>45</dt>\n",
       "\t\t<dd>1</dd>\n",
       "\t<dt>46</dt>\n",
       "\t\t<dd>1</dd>\n",
       "\t<dt>48</dt>\n",
       "\t\t<dd>1</dd>\n",
       "\t<dt>49</dt>\n",
       "\t\t<dd>1</dd>\n",
       "\t<dt>50</dt>\n",
       "\t\t<dd>1</dd>\n",
       "\t<dt>51</dt>\n",
       "\t\t<dd>1</dd>\n",
       "\t<dt>53</dt>\n",
       "\t\t<dd>1</dd>\n",
       "\t<dt>56</dt>\n",
       "\t\t<dd>1</dd>\n",
       "\t<dt>58</dt>\n",
       "\t\t<dd>1</dd>\n",
       "</dl>\n"
      ],
      "text/latex": [
       "\\begin{description*}\n",
       "\\item[6] 1\n",
       "\\item[10] 1\n",
       "\\item[11] 3\n",
       "\\item[12] 4\n",
       "\\item[13] 3\n",
       "\\item[14] 2\n",
       "\\item[15] 2\n",
       "\\item[16] 2\n",
       "\\item[17] 3\n",
       "\\item[18] 2\n",
       "\\item[19] 3\n",
       "\\item[20] 3\n",
       "\\item[21] 2\n",
       "\\item[22] 2\n",
       "\\item[23] 3\n",
       "\\item[24] 1\n",
       "\\item[25] 2\n",
       "\\item[26] 2\n",
       "\\item[27] 2\n",
       "\\item[28] 2\n",
       "\\item[29] 2\n",
       "\\item[30] 1\n",
       "\\item[31] 2\n",
       "\\item[32] 2\n",
       "\\item[33] 1\n",
       "\\item[34] 1\n",
       "\\item[35] 2\n",
       "\\item[36] 1\n",
       "\\item[37] 2\n",
       "\\item[38] 2\n",
       "\\item[39] 1\n",
       "\\item[40] 1\n",
       "\\item[41] 1\n",
       "\\item[43] 1\n",
       "\\item[44] 1\n",
       "\\item[45] 1\n",
       "\\item[46] 1\n",
       "\\item[48] 1\n",
       "\\item[49] 1\n",
       "\\item[50] 1\n",
       "\\item[51] 1\n",
       "\\item[53] 1\n",
       "\\item[56] 1\n",
       "\\item[58] 1\n",
       "\\end{description*}\n"
      ],
      "text/markdown": [
       "6\n",
       ":   110\n",
       ":   111\n",
       ":   312\n",
       ":   413\n",
       ":   314\n",
       ":   215\n",
       ":   216\n",
       ":   217\n",
       ":   318\n",
       ":   219\n",
       ":   320\n",
       ":   321\n",
       ":   222\n",
       ":   223\n",
       ":   324\n",
       ":   125\n",
       ":   226\n",
       ":   227\n",
       ":   228\n",
       ":   229\n",
       ":   230\n",
       ":   131\n",
       ":   232\n",
       ":   233\n",
       ":   134\n",
       ":   135\n",
       ":   236\n",
       ":   137\n",
       ":   238\n",
       ":   239\n",
       ":   140\n",
       ":   141\n",
       ":   143\n",
       ":   144\n",
       ":   145\n",
       ":   146\n",
       ":   148\n",
       ":   149\n",
       ":   150\n",
       ":   151\n",
       ":   153\n",
       ":   156\n",
       ":   158\n",
       ":   1\n",
       "\n"
      ],
      "text/plain": [
       " 6 10 11 12 13 14 15 16 17 18 19 20 21 22 23 24 25 26 27 28 29 30 31 32 33 34 \n",
       " 1  1  3  4  3  2  2  2  3  2  3  3  2  2  3  1  2  2  2  2  2  1  2  2  1  1 \n",
       "35 36 37 38 39 40 41 43 44 45 46 48 49 50 51 53 56 58 \n",
       " 2  1  2  2  1  1  1  1  1  1  1  1  1  1  1  1  1  1 "
      ]
     },
     "metadata": {},
     "output_type": "display_data"
    }
   ],
   "source": [
    "x_2 <- c(32,  06,  22,  11  ,34,  40,  16 , 26 , 23 , 31 , 27 , 10 , 38,  17,  13,45 , 25,  50,  18,  23,  35,  22,  30,  14,  18,  20,  13,  24,  35,  29,33 , 48,  20,  12,  31,  39,  17,  58,  19,  16,  12,  21,  15,  12,  20,51 , 12,  19,  15,  41,  29,  25,  13,  23,  32,  14,  27,  43,  37,  21,28,  37,  26,  44,  11,  53,  38,  46,  17,  36,  28,  49,  56,  19 , 11)\n",
    "y_2 <- summary(factor(x_2))\n",
    "y_2\n"
   ]
  },
  {
   "cell_type": "code",
   "execution_count": 154,
   "metadata": {},
   "outputs": [
    {
     "data": {
      "text/html": [
       "<ol class=list-inline>\n",
       "\t<li>6</li>\n",
       "\t<li>12</li>\n",
       "\t<li>18</li>\n",
       "\t<li>24</li>\n",
       "\t<li>30</li>\n",
       "\t<li>36</li>\n",
       "\t<li>42</li>\n",
       "\t<li>48</li>\n",
       "\t<li>54</li>\n",
       "\t<li>60</li>\n",
       "</ol>\n"
      ],
      "text/latex": [
       "\\begin{enumerate*}\n",
       "\\item 6\n",
       "\\item 12\n",
       "\\item 18\n",
       "\\item 24\n",
       "\\item 30\n",
       "\\item 36\n",
       "\\item 42\n",
       "\\item 48\n",
       "\\item 54\n",
       "\\item 60\n",
       "\\end{enumerate*}\n"
      ],
      "text/markdown": [
       "1. 6\n",
       "2. 12\n",
       "3. 18\n",
       "4. 24\n",
       "5. 30\n",
       "6. 36\n",
       "7. 42\n",
       "8. 48\n",
       "9. 54\n",
       "10. 60\n",
       "\n",
       "\n"
      ],
      "text/plain": [
       " [1]  6 12 18 24 30 36 42 48 54 60"
      ]
     },
     "metadata": {},
     "output_type": "display_data"
    }
   ],
   "source": [
    "brk<-seq(6,60,6)\n",
    "brk"
   ]
  },
  {
   "cell_type": "markdown",
   "metadata": {},
   "source": [
    "##### Resposta letra B"
   ]
  },
  {
   "cell_type": "code",
   "execution_count": 162,
   "metadata": {},
   "outputs": [],
   "source": [
    "classes<-c(\"6-11\",\"12-17\",\"18-23\",\"24-29\",\"30-35\",\"36-41\",\"42-47\",\"48-53\", \"54-60\")"
   ]
  },
  {
   "cell_type": "code",
   "execution_count": 163,
   "metadata": {},
   "outputs": [
    {
     "data": {
      "text/plain": [
       "\n",
       " 6-11 12-17 18-23 24-29 30-35 36-41 42-47 48-53 54-60 \n",
       "    5    16    15    11     9     8     4     5     2 "
      ]
     },
     "metadata": {},
     "output_type": "display_data"
    }
   ],
   "source": [
    "table(cut(x_2,breaks=brk,right=FALSE,labels=classes))"
   ]
  },
  {
   "cell_type": "code",
   "execution_count": 164,
   "metadata": {},
   "outputs": [
    {
     "data": {
      "image/png": "[encoded data removed]",
      "text/plain": [
       "plot without title"
      ]
     },
     "metadata": {},
     "output_type": "display_data"
    }
   ],
   "source": [
    "plot(table(cut(x_2,breaks=brk,right=FALSE,labels=classes)),ylab=\"Freq.\")\n"
   ]
  },
  {
   "cell_type": "markdown",
   "metadata": {},
   "source": [
    "![image.png](img3.png)"
   ]
  },
  {
   "cell_type": "markdown",
   "metadata": {},
   "source": [
    "##### Resposta"
   ]
  },
  {
   "cell_type": "code",
   "execution_count": 158,
   "metadata": {},
   "outputs": [],
   "source": [
    "x_3 <- c(45 , 60 , 54, 62,  55,  79 ,38  ,48 , 64, 55,  56  ,55, 54 , 59 , 48, 65 , 55 , 60)\n",
    "x_4 <- c(57,  55 , 58 ,50 , 52 , 59 ,59  ,55 , 56, 61 , 52 , 53, 57 , 57 , 50, 55 , 58 , 54, 56 , 51 , 56)"
   ]
  },
  {
   "cell_type": "code",
   "execution_count": 159,
   "metadata": {},
   "outputs": [
    {
     "data": {
      "text/html": [
       "<dl class=dl-horizontal>\n",
       "\t<dt>38</dt>\n",
       "\t\t<dd>1</dd>\n",
       "\t<dt>45</dt>\n",
       "\t\t<dd>1</dd>\n",
       "\t<dt>48</dt>\n",
       "\t\t<dd>2</dd>\n",
       "\t<dt>54</dt>\n",
       "\t\t<dd>2</dd>\n",
       "\t<dt>55</dt>\n",
       "\t\t<dd>4</dd>\n",
       "\t<dt>56</dt>\n",
       "\t\t<dd>1</dd>\n",
       "\t<dt>59</dt>\n",
       "\t\t<dd>1</dd>\n",
       "\t<dt>60</dt>\n",
       "\t\t<dd>2</dd>\n",
       "\t<dt>62</dt>\n",
       "\t\t<dd>1</dd>\n",
       "\t<dt>64</dt>\n",
       "\t\t<dd>1</dd>\n",
       "\t<dt>65</dt>\n",
       "\t\t<dd>1</dd>\n",
       "\t<dt>79</dt>\n",
       "\t\t<dd>1</dd>\n",
       "</dl>\n"
      ],
      "text/latex": [
       "\\begin{description*}\n",
       "\\item[38] 1\n",
       "\\item[45] 1\n",
       "\\item[48] 2\n",
       "\\item[54] 2\n",
       "\\item[55] 4\n",
       "\\item[56] 1\n",
       "\\item[59] 1\n",
       "\\item[60] 2\n",
       "\\item[62] 1\n",
       "\\item[64] 1\n",
       "\\item[65] 1\n",
       "\\item[79] 1\n",
       "\\end{description*}\n"
      ],
      "text/markdown": [
       "38\n",
       ":   145\n",
       ":   148\n",
       ":   254\n",
       ":   255\n",
       ":   456\n",
       ":   159\n",
       ":   160\n",
       ":   262\n",
       ":   164\n",
       ":   165\n",
       ":   179\n",
       ":   1\n",
       "\n"
      ],
      "text/plain": [
       "38 45 48 54 55 56 59 60 62 64 65 79 \n",
       " 1  1  2  2  4  1  1  2  1  1  1  1 "
      ]
     },
     "metadata": {},
     "output_type": "display_data"
    },
    {
     "data": {
      "text/html": [
       "<ol class=list-inline>\n",
       "\t<li>'soma das ocorrencias: '</li>\n",
       "\t<li>'18'</li>\n",
       "</ol>\n"
      ],
      "text/latex": [
       "\\begin{enumerate*}\n",
       "\\item 'soma das ocorrencias: '\n",
       "\\item '18'\n",
       "\\end{enumerate*}\n"
      ],
      "text/markdown": [
       "1. 'soma das ocorrencias: '\n",
       "2. '18'\n",
       "\n",
       "\n"
      ],
      "text/plain": [
       "[1] \"soma das ocorrencias: \" \"18\"                    "
      ]
     },
     "metadata": {},
     "output_type": "display_data"
    },
    {
     "data": {
      "text/plain": [
       "   Min. 1st Qu.  Median    Mean 3rd Qu.    Max. \n",
       "  38,00   54,00   55,00   56,22   60,00   79,00 "
      ]
     },
     "metadata": {},
     "output_type": "display_data"
    },
    {
     "data": {
      "text/html": [
       "<ol class=list-inline>\n",
       "\t<li>38</li>\n",
       "\t<li>44</li>\n",
       "\t<li>50</li>\n",
       "\t<li>56</li>\n",
       "\t<li>62</li>\n",
       "\t<li>68</li>\n",
       "\t<li>74</li>\n",
       "\t<li>80</li>\n",
       "</ol>\n"
      ],
      "text/latex": [
       "\\begin{enumerate*}\n",
       "\\item 38\n",
       "\\item 44\n",
       "\\item 50\n",
       "\\item 56\n",
       "\\item 62\n",
       "\\item 68\n",
       "\\item 74\n",
       "\\item 80\n",
       "\\end{enumerate*}\n"
      ],
      "text/markdown": [
       "1. 38\n",
       "2. 44\n",
       "3. 50\n",
       "4. 56\n",
       "5. 62\n",
       "6. 68\n",
       "7. 74\n",
       "8. 80\n",
       "\n",
       "\n"
      ],
      "text/plain": [
       "[1] 38 44 50 56 62 68 74 80"
      ]
     },
     "metadata": {},
     "output_type": "display_data"
    },
    {
     "data": {
      "image/png": "[encoded data removed]",
      "text/plain": [
       "plot without title"
      ]
     },
     "metadata": {},
     "output_type": "display_data"
    }
   ],
   "source": [
    "y_3 <- summary(factor(x_3))\n",
    "y_3\n",
    "aux <- c('soma das ocorrencias: ' , sum(y_3))\n",
    "aux\n",
    "summary(x_3)\n",
    "brk_3<-seq(38,81,6)\n",
    "brk_3\n",
    "classes_3<-c(\"38-43\",\"44-49\",\"50-55\",\"56-61\",\"62-67\",\"68-73\",\"74-80\")\n",
    "plot(table(cut(x_3,breaks=brk_3,right=FALSE,labels=classes_3)),ylab=\"Freq.\")\n"
   ]
  },
  {
   "cell_type": "code",
   "execution_count": 160,
   "metadata": {},
   "outputs": [
    {
     "data": {
      "text/html": [
       "<dl class=dl-horizontal>\n",
       "\t<dt>50</dt>\n",
       "\t\t<dd>2</dd>\n",
       "\t<dt>51</dt>\n",
       "\t\t<dd>1</dd>\n",
       "\t<dt>52</dt>\n",
       "\t\t<dd>2</dd>\n",
       "\t<dt>53</dt>\n",
       "\t\t<dd>1</dd>\n",
       "\t<dt>54</dt>\n",
       "\t\t<dd>1</dd>\n",
       "\t<dt>55</dt>\n",
       "\t\t<dd>3</dd>\n",
       "\t<dt>56</dt>\n",
       "\t\t<dd>3</dd>\n",
       "\t<dt>57</dt>\n",
       "\t\t<dd>3</dd>\n",
       "\t<dt>58</dt>\n",
       "\t\t<dd>2</dd>\n",
       "\t<dt>59</dt>\n",
       "\t\t<dd>2</dd>\n",
       "\t<dt>61</dt>\n",
       "\t\t<dd>1</dd>\n",
       "</dl>\n"
      ],
      "text/latex": [
       "\\begin{description*}\n",
       "\\item[50] 2\n",
       "\\item[51] 1\n",
       "\\item[52] 2\n",
       "\\item[53] 1\n",
       "\\item[54] 1\n",
       "\\item[55] 3\n",
       "\\item[56] 3\n",
       "\\item[57] 3\n",
       "\\item[58] 2\n",
       "\\item[59] 2\n",
       "\\item[61] 1\n",
       "\\end{description*}\n"
      ],
      "text/markdown": [
       "50\n",
       ":   251\n",
       ":   152\n",
       ":   253\n",
       ":   154\n",
       ":   155\n",
       ":   356\n",
       ":   357\n",
       ":   358\n",
       ":   259\n",
       ":   261\n",
       ":   1\n",
       "\n"
      ],
      "text/plain": [
       "50 51 52 53 54 55 56 57 58 59 61 \n",
       " 2  1  2  1  1  3  3  3  2  2  1 "
      ]
     },
     "metadata": {},
     "output_type": "display_data"
    },
    {
     "data": {
      "text/html": [
       "<ol class=list-inline>\n",
       "\t<li>'soma das ocorrencias: '</li>\n",
       "\t<li>'21'</li>\n",
       "</ol>\n"
      ],
      "text/latex": [
       "\\begin{enumerate*}\n",
       "\\item 'soma das ocorrencias: '\n",
       "\\item '21'\n",
       "\\end{enumerate*}\n"
      ],
      "text/markdown": [
       "1. 'soma das ocorrencias: '\n",
       "2. '21'\n",
       "\n",
       "\n"
      ],
      "text/plain": [
       "[1] \"soma das ocorrencias: \" \"21\"                    "
      ]
     },
     "metadata": {},
     "output_type": "display_data"
    },
    {
     "data": {
      "text/plain": [
       "   Min. 1st Qu.  Median    Mean 3rd Qu.    Max. \n",
       "  50,00   53,00   56,00   55,29   57,00   61,00 "
      ]
     },
     "metadata": {},
     "output_type": "display_data"
    },
    {
     "data": {
      "text/html": [
       "<ol class=list-inline>\n",
       "\t<li>50</li>\n",
       "\t<li>56</li>\n",
       "\t<li>62</li>\n",
       "</ol>\n"
      ],
      "text/latex": [
       "\\begin{enumerate*}\n",
       "\\item 50\n",
       "\\item 56\n",
       "\\item 62\n",
       "\\end{enumerate*}\n"
      ],
      "text/markdown": [
       "1. 50\n",
       "2. 56\n",
       "3. 62\n",
       "\n",
       "\n"
      ],
      "text/plain": [
       "[1] 50 56 62"
      ]
     },
     "metadata": {},
     "output_type": "display_data"
    },
    {
     "data": {
      "text/html": [
       "1161"
      ],
      "text/latex": [
       "1161"
      ],
      "text/markdown": [
       "1161"
      ],
      "text/plain": [
       "[1] 1161"
      ]
     },
     "metadata": {},
     "output_type": "display_data"
    },
    {
     "data": {
      "image/png": "[encoded data removed]",
      "text/plain": [
       "plot without title"
      ]
     },
     "metadata": {},
     "output_type": "display_data"
    }
   ],
   "source": [
    "y_4 <- summary(factor(x_4))\n",
    "y_4\n",
    "aux_2 <- c('soma das ocorrencias: ' , sum(y_4))\n",
    "aux_2\n",
    "summary(x_4)\n",
    "brk_4<-seq(50,62,6)\n",
    "brk_4\n",
    "classes_4<-c(\"50-55\",\"56-62\")\n",
    "plot(table(cut(x_4,breaks=brk_4,right=FALSE,labels=classes_4)),ylab=\"Freq.\")\n",
    "sum(x_4)"
   ]
  },
  {
   "cell_type": "code",
   "execution_count": 161,
   "metadata": {},
   "outputs": [
    {
     "data": {
      "image/png": "[encoded data removed]",
      "text/plain": [
       "Plot with title “Boxplot”"
      ]
     },
     "metadata": {},
     "output_type": "display_data"
    }
   ],
   "source": [
    "boxplot(x_3, x_4,main=\"Boxplot\")"
   ]
  },
  {
   "cell_type": "markdown",
   "metadata": {},
   "source": [
    "   O boxplot esclarece muitas coisas, principalmente em relação a valores que distoam da média de valores do conjunto, por isso podemos perceber que a corretora A apresenta dois casos factíveis de análise, sendo o primeiro um valor bem abaixo dos valores médios e o segundo um valor bem acima. Esses valores normalmente interferem em cálculos de média, por exemplo, dando a falsa impressão de que um conjunto possui valores maiores que o outro, ou que de fato é maior.\n",
    "   \n",
    "   Dois pontos que mostram que a corretora B teve um melhor desempenho são:\n",
    "    \n",
    "   -Os valores do conjunto B não tem muita discrepância, eles estão dentro da média de valores do conjunto.\n",
    "        \n",
    "   -Segundo ponto, número de ocorrências, a corretora B possue mais número em seu conjunto.\n",
    "   \n",
    "   Portanto, a corretora B obteve um melhor desempenho."
   ]
  }
 ],
 "metadata": {
  "kernelspec": {
   "display_name": "R",
   "language": "R",
   "name": "ir"
  },
  "language_info": {
   "codemirror_mode": "r",
   "file_extension": ".r",
   "mimetype": "text/x-r-source",
   "name": "R",
   "pygments_lexer": "r",
   "version": "3.5.1"
  }
 },
 "nbformat": 4,
 "nbformat_minor": 2
}
